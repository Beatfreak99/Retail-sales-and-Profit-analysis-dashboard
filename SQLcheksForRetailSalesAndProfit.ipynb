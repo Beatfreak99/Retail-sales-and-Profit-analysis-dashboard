{
  "nbformat": 4,
  "nbformat_minor": 0,
  "metadata": {
    "colab": {
      "provenance": []
    },
    "kernelspec": {
      "name": "python3",
      "display_name": "Python 3"
    },
    "language_info": {
      "name": "python"
    }
  },
  "cells": [
    {
      "cell_type": "code",
      "execution_count": 1,
      "metadata": {
        "id": "4brhi0dCUKuB"
      },
      "outputs": [],
      "source": [
        "import pandas as pd\n",
        "import sqlite3"
      ]
    },
    {
      "cell_type": "code",
      "source": [
        "!pip install openpyxl"
      ],
      "metadata": {
        "colab": {
          "base_uri": "https://localhost:8080/"
        },
        "id": "vqMLeBV2WbkV",
        "outputId": "c24b5e4f-9b06-42b9-f47d-c18bda174caf"
      },
      "execution_count": 2,
      "outputs": [
        {
          "output_type": "stream",
          "name": "stdout",
          "text": [
            "Requirement already satisfied: openpyxl in /usr/local/lib/python3.11/dist-packages (3.1.5)\n",
            "Requirement already satisfied: et-xmlfile in /usr/local/lib/python3.11/dist-packages (from openpyxl) (2.0.0)\n"
          ]
        }
      ]
    },
    {
      "cell_type": "code",
      "source": [
        "from google.colab import files\n",
        "uploaded = files.upload()"
      ],
      "metadata": {
        "colab": {
          "base_uri": "https://localhost:8080/",
          "height": 73
        },
        "id": "8cG8yNkbW72h",
        "outputId": "8d59700f-b517-4168-e8d5-5c0256597b9f"
      },
      "execution_count": 3,
      "outputs": [
        {
          "output_type": "display_data",
          "data": {
            "text/plain": [
              "<IPython.core.display.HTML object>"
            ],
            "text/html": [
              "\n",
              "     <input type=\"file\" id=\"files-7ee03a80-b0e6-426f-b7f6-47937a0dafbd\" name=\"files[]\" multiple disabled\n",
              "        style=\"border:none\" />\n",
              "     <output id=\"result-7ee03a80-b0e6-426f-b7f6-47937a0dafbd\">\n",
              "      Upload widget is only available when the cell has been executed in the\n",
              "      current browser session. Please rerun this cell to enable.\n",
              "      </output>\n",
              "      <script>// Copyright 2017 Google LLC\n",
              "//\n",
              "// Licensed under the Apache License, Version 2.0 (the \"License\");\n",
              "// you may not use this file except in compliance with the License.\n",
              "// You may obtain a copy of the License at\n",
              "//\n",
              "//      http://www.apache.org/licenses/LICENSE-2.0\n",
              "//\n",
              "// Unless required by applicable law or agreed to in writing, software\n",
              "// distributed under the License is distributed on an \"AS IS\" BASIS,\n",
              "// WITHOUT WARRANTIES OR CONDITIONS OF ANY KIND, either express or implied.\n",
              "// See the License for the specific language governing permissions and\n",
              "// limitations under the License.\n",
              "\n",
              "/**\n",
              " * @fileoverview Helpers for google.colab Python module.\n",
              " */\n",
              "(function(scope) {\n",
              "function span(text, styleAttributes = {}) {\n",
              "  const element = document.createElement('span');\n",
              "  element.textContent = text;\n",
              "  for (const key of Object.keys(styleAttributes)) {\n",
              "    element.style[key] = styleAttributes[key];\n",
              "  }\n",
              "  return element;\n",
              "}\n",
              "\n",
              "// Max number of bytes which will be uploaded at a time.\n",
              "const MAX_PAYLOAD_SIZE = 100 * 1024;\n",
              "\n",
              "function _uploadFiles(inputId, outputId) {\n",
              "  const steps = uploadFilesStep(inputId, outputId);\n",
              "  const outputElement = document.getElementById(outputId);\n",
              "  // Cache steps on the outputElement to make it available for the next call\n",
              "  // to uploadFilesContinue from Python.\n",
              "  outputElement.steps = steps;\n",
              "\n",
              "  return _uploadFilesContinue(outputId);\n",
              "}\n",
              "\n",
              "// This is roughly an async generator (not supported in the browser yet),\n",
              "// where there are multiple asynchronous steps and the Python side is going\n",
              "// to poll for completion of each step.\n",
              "// This uses a Promise to block the python side on completion of each step,\n",
              "// then passes the result of the previous step as the input to the next step.\n",
              "function _uploadFilesContinue(outputId) {\n",
              "  const outputElement = document.getElementById(outputId);\n",
              "  const steps = outputElement.steps;\n",
              "\n",
              "  const next = steps.next(outputElement.lastPromiseValue);\n",
              "  return Promise.resolve(next.value.promise).then((value) => {\n",
              "    // Cache the last promise value to make it available to the next\n",
              "    // step of the generator.\n",
              "    outputElement.lastPromiseValue = value;\n",
              "    return next.value.response;\n",
              "  });\n",
              "}\n",
              "\n",
              "/**\n",
              " * Generator function which is called between each async step of the upload\n",
              " * process.\n",
              " * @param {string} inputId Element ID of the input file picker element.\n",
              " * @param {string} outputId Element ID of the output display.\n",
              " * @return {!Iterable<!Object>} Iterable of next steps.\n",
              " */\n",
              "function* uploadFilesStep(inputId, outputId) {\n",
              "  const inputElement = document.getElementById(inputId);\n",
              "  inputElement.disabled = false;\n",
              "\n",
              "  const outputElement = document.getElementById(outputId);\n",
              "  outputElement.innerHTML = '';\n",
              "\n",
              "  const pickedPromise = new Promise((resolve) => {\n",
              "    inputElement.addEventListener('change', (e) => {\n",
              "      resolve(e.target.files);\n",
              "    });\n",
              "  });\n",
              "\n",
              "  const cancel = document.createElement('button');\n",
              "  inputElement.parentElement.appendChild(cancel);\n",
              "  cancel.textContent = 'Cancel upload';\n",
              "  const cancelPromise = new Promise((resolve) => {\n",
              "    cancel.onclick = () => {\n",
              "      resolve(null);\n",
              "    };\n",
              "  });\n",
              "\n",
              "  // Wait for the user to pick the files.\n",
              "  const files = yield {\n",
              "    promise: Promise.race([pickedPromise, cancelPromise]),\n",
              "    response: {\n",
              "      action: 'starting',\n",
              "    }\n",
              "  };\n",
              "\n",
              "  cancel.remove();\n",
              "\n",
              "  // Disable the input element since further picks are not allowed.\n",
              "  inputElement.disabled = true;\n",
              "\n",
              "  if (!files) {\n",
              "    return {\n",
              "      response: {\n",
              "        action: 'complete',\n",
              "      }\n",
              "    };\n",
              "  }\n",
              "\n",
              "  for (const file of files) {\n",
              "    const li = document.createElement('li');\n",
              "    li.append(span(file.name, {fontWeight: 'bold'}));\n",
              "    li.append(span(\n",
              "        `(${file.type || 'n/a'}) - ${file.size} bytes, ` +\n",
              "        `last modified: ${\n",
              "            file.lastModifiedDate ? file.lastModifiedDate.toLocaleDateString() :\n",
              "                                    'n/a'} - `));\n",
              "    const percent = span('0% done');\n",
              "    li.appendChild(percent);\n",
              "\n",
              "    outputElement.appendChild(li);\n",
              "\n",
              "    const fileDataPromise = new Promise((resolve) => {\n",
              "      const reader = new FileReader();\n",
              "      reader.onload = (e) => {\n",
              "        resolve(e.target.result);\n",
              "      };\n",
              "      reader.readAsArrayBuffer(file);\n",
              "    });\n",
              "    // Wait for the data to be ready.\n",
              "    let fileData = yield {\n",
              "      promise: fileDataPromise,\n",
              "      response: {\n",
              "        action: 'continue',\n",
              "      }\n",
              "    };\n",
              "\n",
              "    // Use a chunked sending to avoid message size limits. See b/62115660.\n",
              "    let position = 0;\n",
              "    do {\n",
              "      const length = Math.min(fileData.byteLength - position, MAX_PAYLOAD_SIZE);\n",
              "      const chunk = new Uint8Array(fileData, position, length);\n",
              "      position += length;\n",
              "\n",
              "      const base64 = btoa(String.fromCharCode.apply(null, chunk));\n",
              "      yield {\n",
              "        response: {\n",
              "          action: 'append',\n",
              "          file: file.name,\n",
              "          data: base64,\n",
              "        },\n",
              "      };\n",
              "\n",
              "      let percentDone = fileData.byteLength === 0 ?\n",
              "          100 :\n",
              "          Math.round((position / fileData.byteLength) * 100);\n",
              "      percent.textContent = `${percentDone}% done`;\n",
              "\n",
              "    } while (position < fileData.byteLength);\n",
              "  }\n",
              "\n",
              "  // All done.\n",
              "  yield {\n",
              "    response: {\n",
              "      action: 'complete',\n",
              "    }\n",
              "  };\n",
              "}\n",
              "\n",
              "scope.google = scope.google || {};\n",
              "scope.google.colab = scope.google.colab || {};\n",
              "scope.google.colab._files = {\n",
              "  _uploadFiles,\n",
              "  _uploadFilesContinue,\n",
              "};\n",
              "})(self);\n",
              "</script> "
            ]
          },
          "metadata": {}
        },
        {
          "output_type": "stream",
          "name": "stdout",
          "text": [
            "Saving Flor_martData.xlsx to Flor_martData.xlsx\n"
          ]
        }
      ]
    },
    {
      "cell_type": "code",
      "source": [
        "excel_path = list(uploaded.keys())[0]\n",
        "df = pd.read_excel(excel_path, engine='openpyxl')"
      ],
      "metadata": {
        "id": "mKpVB-76W_QC"
      },
      "execution_count": 4,
      "outputs": []
    },
    {
      "cell_type": "code",
      "source": [
        "print(\"Columns in your dataset:\\n\", df.columns.tolist())"
      ],
      "metadata": {
        "colab": {
          "base_uri": "https://localhost:8080/"
        },
        "id": "zJyhAXs2XI0R",
        "outputId": "8ef1b5b4-fc52-4754-f83e-b3545a094b6d"
      },
      "execution_count": 5,
      "outputs": [
        {
          "output_type": "stream",
          "name": "stdout",
          "text": [
            "Columns in your dataset:\n",
            " ['City', 'Customer Age', 'Customer Name', 'Customer Segment', 'Discount', 'Number of Records', 'Order Date', 'Order ID', 'Order Priority', 'Order Quantity', 'Product Base Margin', 'Product Category', 'Product Container', 'Product Name', 'Product Sub-Category', 'Profit', 'Region', 'Row ID', 'Sales', 'Ship Date', 'Ship Mode', 'Shipping Cost', 'State', 'Unit Price', 'Zip Code', 'Profit percent', 'Lead Time', 'Delivery Bucket', 'unit sold']\n"
          ]
        }
      ]
    },
    {
      "cell_type": "code",
      "source": [
        "conn = sqlite3.connect(':memory:')\n",
        "df.to_sql('flormart', conn, index=False)\n",
        "\n",
        "cursor = conn.cursor()\n",
        "\n",
        "columns_to_check = [\"Profit\", \"Sales\", \"Ship Date\", \"State\", \"Zip Code\", \"Profit percent\"]\n",
        "for col in columns_to_check:\n",
        "    query = f\"SELECT COUNT(*) FROM flormart WHERE \\\"{col}\\\" IS NULL\"\n",
        "    cursor.execute(query)\n",
        "    result = cursor.fetchone()[0]\n",
        "    print(f\"Number of nulls in '{col}': {result}\")\n",
        "\n",
        "conn.close()"
      ],
      "metadata": {
        "colab": {
          "base_uri": "https://localhost:8080/"
        },
        "id": "S49kFlNDXW8c",
        "outputId": "e59526a2-e944-4146-ea3a-b4f5d1b0d341"
      },
      "execution_count": 6,
      "outputs": [
        {
          "output_type": "stream",
          "name": "stdout",
          "text": [
            "Number of nulls in 'Profit': 0\n",
            "Number of nulls in 'Sales': 0\n",
            "Number of nulls in 'Ship Date': 0\n",
            "Number of nulls in 'State': 0\n",
            "Number of nulls in 'Zip Code': 0\n",
            "Number of nulls in 'Profit percent': 0\n"
          ]
        }
      ]
    },
    {
      "cell_type": "code",
      "source": [
        "conn = sqlite3.connect(':memory:')\n",
        "df.to_sql('flormart', conn, index=False)\n",
        "\n",
        "cursor = conn.cursor()\n",
        "\n",
        "# Example date range query\n",
        "query = \"\"\"\n",
        "SELECT MIN(\"Order Date\") AS min_date, MAX(\"Order Date\") AS max_date\n",
        "FROM flormart\n",
        "\"\"\"\n",
        "\n",
        "cursor.execute(query)\n",
        "results = cursor.fetchone()\n",
        "\n",
        "# Print the results (or process them further)\n",
        "print(f\"Minimum Order Date: {results[0]}, Maximum Order Date: {results[1]}\")\n",
        "\n",
        "\n",
        "conn.close()"
      ],
      "metadata": {
        "id": "NvvjBnvNY_Xt",
        "colab": {
          "base_uri": "https://localhost:8080/"
        },
        "outputId": "ab8e8c4b-130c-496c-ad42-b9c1da4c4da9"
      },
      "execution_count": 9,
      "outputs": [
        {
          "output_type": "stream",
          "name": "stdout",
          "text": [
            "Minimum Order Date: 2012-01-01 00:00:00, Maximum Order Date: 2015-12-30 00:00:00\n"
          ]
        }
      ]
    },
    {
      "cell_type": "code",
      "source": [
        "conn = sqlite3.connect(':memory:')\n",
        "df.to_sql('flormart', conn, index=False)\n",
        "\n",
        "cursor = conn.cursor()\n",
        "\n",
        "query = \"\"\"\n",
        " SELECT [Order ID], COUNT(*) AS count\n",
        "    FROM flormart\n",
        "    GROUP BY [Order ID]\n",
        "    HAVING COUNT(*) > 1\n",
        "\"\"\"\n",
        "cursor.execute(query)\n",
        "results = cursor.fetchone()\n",
        "\n",
        "print(\"\\nDuplicate Order IDs:\\n\", results)\n",
        "conn.close()"
      ],
      "metadata": {
        "colab": {
          "base_uri": "https://localhost:8080/"
        },
        "id": "-R2azXLNaAfA",
        "outputId": "94098b66-51a5-4c86-b216-1060378ac6ac"
      },
      "execution_count": 11,
      "outputs": [
        {
          "output_type": "stream",
          "name": "stdout",
          "text": [
            "\n",
            "Duplicate Order IDs:\n",
            " (32, 4)\n"
          ]
        }
      ]
    },
    {
      "cell_type": "code",
      "source": [
        "conn = sqlite3.connect(':memory:')\n",
        "df.to_sql('flormart', conn, index=False)\n",
        "\n",
        "cursor = conn.cursor()\n",
        "\n",
        "# Calculate mean and standard deviation of Profit\n",
        "query_stats = \"\"\"\n",
        "SELECT AVG(Profit)\n",
        "FROM flormart\n",
        "\"\"\"\n",
        "cursor.execute(query_stats)\n",
        "mean_profit = cursor.fetchone()[0]\n",
        "\n",
        "query_stdev = f\"\"\"\n",
        "SELECT SQRT(AVG((Profit - {mean_profit}) * (Profit - {mean_profit})))\n",
        "FROM flormart\n",
        "\"\"\"\n",
        "cursor.execute(query_stdev)\n",
        "stdev_profit = cursor.fetchone()[0]\n",
        "\n",
        "# Define a threshold for outliers (e.g., 3 standard deviations)\n",
        "threshold = 3\n",
        "\n",
        "# Identify outliers using SQL\n",
        "query_outliers = f\"\"\"\n",
        "SELECT COUNT(*)\n",
        "FROM flormart\n",
        "WHERE Profit < ({mean_profit} - {threshold} * {stdev_profit})\n",
        "OR Profit > ({mean_profit} + {threshold} * {stdev_profit})\n",
        "\"\"\"\n",
        "\n",
        "cursor.execute(query_outliers)\n",
        "num_outliers = cursor.fetchone()[0]\n",
        "\n",
        "# Get total number of rows\n",
        "query_total_rows = \"\"\"\n",
        "SELECT COUNT(*)\n",
        "FROM flormart\n",
        "\"\"\"\n",
        "cursor.execute(query_total_rows)\n",
        "total_rows = cursor.fetchone()[0]\n",
        "\n",
        "# Calculate percentage of outliers\n",
        "percentage_outliers = (num_outliers / total_rows) * 100 if total_rows > 0 else 0\n",
        "\n",
        "print(f\"Number of potential Profit Outliers (more than {threshold} standard deviations from the mean): {num_outliers}\")\n",
        "print(f\"Percentage of Profit Outliers: {percentage_outliers:.2f}%\")\n",
        "\n",
        "conn.close()"
      ],
      "metadata": {
        "colab": {
          "base_uri": "https://localhost:8080/"
        },
        "id": "l_62RzzEcTYv",
        "outputId": "ef8fd0a6-b58a-43ee-8e45-e1ee2989416d"
      },
      "execution_count": 14,
      "outputs": [
        {
          "output_type": "stream",
          "name": "stdout",
          "text": [
            "Number of potential Profit Outliers (more than 3 standard deviations from the mean): 178\n",
            "Percentage of Profit Outliers: 2.12%\n"
          ]
        }
      ]
    }
  ]
}